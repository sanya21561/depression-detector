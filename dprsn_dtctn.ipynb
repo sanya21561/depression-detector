{
  "nbformat": 4,
  "nbformat_minor": 0,
  "metadata": {
    "colab": {
      "provenance": []
    },
    "kernelspec": {
      "name": "python3",
      "display_name": "Python 3"
    },
    "language_info": {
      "name": "python"
    }
  },
  "cells": [
    {
      "cell_type": "code",
      "execution_count": null,
      "metadata": {
        "id": "U_PRp8c6GX9D"
      },
      "outputs": [],
      "source": [
        "import os\n",
        "import zipfile\n",
        "import json\n",
        "import re\n",
        "from bs4 import BeautifulSoup\n",
        "from nltk.tokenize import word_tokenize\n",
        "from nltk.corpus import stopwords\n",
        "from sklearn.feature_extraction.text import TfidfVectorizer"
      ]
    },
    {
      "cell_type": "code",
      "source": [
        "#Extracting the data\n",
        "with zipfile.ZipFile('dataset.zip', 'r') as zip_ref:\n",
        "    zip_ref.extractall()"
      ],
      "metadata": {
        "id": "JKGZdnF0GqHu"
      },
      "execution_count": null,
      "outputs": []
    },
    {
      "cell_type": "code",
      "source": [
        "# Create empty lists to hold the positive and negative tweet texts\n",
        "positive_tweets = []\n",
        "negative_tweets = []"
      ],
      "metadata": {
        "id": "dkbVC0XbL3UG"
      },
      "execution_count": null,
      "outputs": []
    },
    {
      "cell_type": "code",
      "source": [
        "# Loop over the files in the positive folder and extract the tweet text\n",
        "for filename in os.listdir('positive/tweet'):\n",
        "    with open(os.path.join('positive/tweet', filename), 'r') as f:\n",
        "        tweet = json.load(f)\n",
        "        text = tweet['text']\n",
        "        # Clean the text by removing hyperlinks, escape sequences, etc.\n",
        "        text = re.sub(r'http\\S+', '', text)\n",
        "        text = BeautifulSoup(text, 'html.parser').get_text()\n",
        "        text = text.replace('\\n', ' ')\n",
        "        text = text.replace('\\\\', '')\n",
        "        # Tokenize the text and remove stop words\n",
        "        tokens = word_tokenize(text.lower())\n",
        "        tokens = [word for word in tokens if not word in stopwords.words()]\n",
        "        # Append the cleaned and tokenized text to the positive_tweets list\n",
        "        positive_tweets.append(' '.join(tokens))"
      ],
      "metadata": {
        "id": "Ksfl955OL8qe",
        "colab": {
          "base_uri": "https://localhost:8080/",
          "height": 235
        },
        "outputId": "09820a84-2f7a-4b6b-fad4-3fcb333042f2"
      },
      "execution_count": null,
      "outputs": [
        {
          "output_type": "error",
          "ename": "FileNotFoundError",
          "evalue": "ignored",
          "traceback": [
            "\u001b[0;31m---------------------------------------------------------------------------\u001b[0m",
            "\u001b[0;31mFileNotFoundError\u001b[0m                         Traceback (most recent call last)",
            "\u001b[0;32m<ipython-input-15-76d856a040fd>\u001b[0m in \u001b[0;36m<module>\u001b[0;34m\u001b[0m\n\u001b[1;32m      1\u001b[0m \u001b[0;31m# Loop over the files in the positive folder and extract the tweet text\u001b[0m\u001b[0;34m\u001b[0m\u001b[0;34m\u001b[0m\u001b[0m\n\u001b[0;32m----> 2\u001b[0;31m \u001b[0;32mfor\u001b[0m \u001b[0mfilename\u001b[0m \u001b[0;32min\u001b[0m \u001b[0mos\u001b[0m\u001b[0;34m.\u001b[0m\u001b[0mlistdir\u001b[0m\u001b[0;34m(\u001b[0m\u001b[0;34m'positive/tweet'\u001b[0m\u001b[0;34m)\u001b[0m\u001b[0;34m:\u001b[0m\u001b[0;34m\u001b[0m\u001b[0;34m\u001b[0m\u001b[0m\n\u001b[0m\u001b[1;32m      3\u001b[0m     \u001b[0;32mwith\u001b[0m \u001b[0mopen\u001b[0m\u001b[0;34m(\u001b[0m\u001b[0mos\u001b[0m\u001b[0;34m.\u001b[0m\u001b[0mpath\u001b[0m\u001b[0;34m.\u001b[0m\u001b[0mjoin\u001b[0m\u001b[0;34m(\u001b[0m\u001b[0;34m'positive/tweet'\u001b[0m\u001b[0;34m,\u001b[0m \u001b[0mfilename\u001b[0m\u001b[0;34m)\u001b[0m\u001b[0;34m,\u001b[0m \u001b[0;34m'r'\u001b[0m\u001b[0;34m)\u001b[0m \u001b[0;32mas\u001b[0m \u001b[0mf\u001b[0m\u001b[0;34m:\u001b[0m\u001b[0;34m\u001b[0m\u001b[0;34m\u001b[0m\u001b[0m\n\u001b[1;32m      4\u001b[0m         \u001b[0mtweet\u001b[0m \u001b[0;34m=\u001b[0m \u001b[0mjson\u001b[0m\u001b[0;34m.\u001b[0m\u001b[0mload\u001b[0m\u001b[0;34m(\u001b[0m\u001b[0mf\u001b[0m\u001b[0;34m)\u001b[0m\u001b[0;34m\u001b[0m\u001b[0;34m\u001b[0m\u001b[0m\n\u001b[1;32m      5\u001b[0m         \u001b[0mtext\u001b[0m \u001b[0;34m=\u001b[0m \u001b[0mtweet\u001b[0m\u001b[0;34m[\u001b[0m\u001b[0;34m'text'\u001b[0m\u001b[0;34m]\u001b[0m\u001b[0;34m\u001b[0m\u001b[0;34m\u001b[0m\u001b[0m\n",
            "\u001b[0;31mFileNotFoundError\u001b[0m: [Errno 2] No such file or directory: 'positive/tweet'"
          ]
        }
      ]
    },
    {
      "cell_type": "code",
      "source": [
        "# Loop over the files in the negative folder and extract the tweet text\n",
        "for filename in os.listdir('negative/tweet'):\n",
        "    with open(os.path.join('negative/tweet', filename), 'r') as f:\n",
        "        tweet = json.load(f)\n",
        "        text = tweet['text']\n",
        "        # Clean the text by removing hyperlinks, escape sequences, etc.\n",
        "        text = re.sub(r'http\\S+', '', text)\n",
        "        text = BeautifulSoup(text, 'html.parser').get_text()\n",
        "        text = text.replace('\\n', ' ')\n",
        "        text = text.replace('\\\\', '')\n",
        "        # Tokenize the text and remove stop words\n",
        "        tokens = word_tokenize(text.lower())\n",
        "        tokens = [word for word in tokens if not word in stopwords.words()]\n",
        "        # Append the cleaned and tokenized text to the negative_tweets list\n",
        "        negative_tweets.append(' '.join(tokens))"
      ],
      "metadata": {
        "id": "wQLF95QXMAZC"
      },
      "execution_count": null,
      "outputs": []
    },
    {
      "cell_type": "code",
      "source": [
        "# Create a list of labels for the positive and negative tweet texts\n",
        "labels = [1] * len(positive_tweets) + [0] * len(negative_tweets)\n",
        "\n",
        "# Concatenate the positive and negative tweet texts into a single list\n",
        "all_tweets = positive_tweets + negative_tweets\n",
        "\n",
        "# Calculate TF-IDF scores for the tweet texts\n",
        "tfidf_vectorizer = TfidfVectorizer()\n",
        "tfidf_matrix = tfidf_vectorizer.fit_transform(all_tweets)"
      ],
      "metadata": {
        "id": "Ocm4wBTmMDcc"
      },
      "execution_count": null,
      "outputs": []
    },
    {
      "cell_type": "code",
      "source": [
        "from sklearn.model_selection import train_test_split\n",
        "\n",
        "# Split data into training and testing sets\n",
        "X_train, X_test, y_train, y_test = train_test_split(tfidf_matrix, labels, test_size=0.2, random_state=42)\n",
        "\n",
        "# X_train and X_test contain the TF-IDF vectors for the training and testing data\n",
        "# y_train and y_test contain the corresponding labels (0 for negative, 1 for positive)"
      ],
      "metadata": {
        "id": "Y49qzZTYMFtX"
      },
      "execution_count": null,
      "outputs": []
    },
    {
      "cell_type": "code",
      "source": [
        "from sklearn.naive_bayes import MultinomialNB\n",
        "\n",
        "# Train the Naive Bayes classifier\n",
        "nvb = MultinomialNB()\n",
        "nvb.fit(X_train, y_train)\n",
        "\n",
        "# Make predictions on the test set\n",
        "y_pred = nvb.predict(X_test)"
      ],
      "metadata": {
        "id": "1ogoGdcFOSjJ"
      },
      "execution_count": null,
      "outputs": []
    },
    {
      "cell_type": "code",
      "source": [
        "from sklearn.metrics import classification_report\n",
        "#print classification report\n",
        "print(classification_report(y_test, y_pred))"
      ],
      "metadata": {
        "id": "DwxEh28ZPOC0"
      },
      "execution_count": null,
      "outputs": []
    },
    {
      "cell_type": "code",
      "source": [
        "from sklearn import svm\n",
        "\n",
        "# Train an SVM classifier\n",
        "sv_m = svm.SVC(kernel='linear', C=1, gamma='scale')\n",
        "sv_m.fit(X_train, y_train)\n",
        "\n",
        "# Test the classifier\n",
        "y_pred = sv_m.predict(X_test)\n"
      ],
      "metadata": {
        "id": "JAAo15BQOdtV"
      },
      "execution_count": null,
      "outputs": []
    },
    {
      "cell_type": "code",
      "source": [
        "\n",
        "from sklearn.metrics import accuracy_score\n",
        "# Calculate accuracy score\n",
        "accuracy = accuracy_score(y_test, y_pred)\n",
        "print(\"Accuracy:\", accuracy)"
      ],
      "metadata": {
        "id": "sKWU1FEdQr5d"
      },
      "execution_count": null,
      "outputs": []
    },
    {
      "cell_type": "code",
      "source": [
        "from sklearn.linear_model import LogisticRegression\n",
        "from sklearn.model_selection import train_test_split\n",
        "\n",
        "# train model\n",
        "lr = LogisticRegression(random_state=42)\n",
        "lr.fit(X_train, y_train)\n",
        "\n",
        "# evaluate model\n",
        "lr_accuracy = lr.score(X_test, y_test)\n",
        "print(\"Logistic Regression Accuracy:\", lr_accuracy)\n"
      ],
      "metadata": {
        "id": "E7pLEASMOixz"
      },
      "execution_count": null,
      "outputs": []
    },
    {
      "cell_type": "code",
      "source": [
        "from sklearn.neighbors import KNeighborsClassifier\n",
        "from sklearn.model_selection import train_test_split\n",
        "\n",
        "# train model\n",
        "knn = KNeighborsClassifier(n_neighbors=5)\n",
        "knn.fit(X_train, y_train)\n",
        "\n",
        "# evaluate model\n",
        "knn_accuracy = knn.score(X_test, y_test)\n",
        "print(\"kNN Accuracy:\", knn_accuracy)\n"
      ],
      "metadata": {
        "id": "sDfXq9IXQvij"
      },
      "execution_count": null,
      "outputs": []
    },
    {
      "cell_type": "code",
      "source": [
        "#DEPLOY\n",
        "\n",
        "\n",
        "# Train a Naive Bayes classifier\n",
        "nb_clf = MultinomialNB()\n",
        "nb_clf.fit(X_train, y_train)\n",
        "nb_preds = nb_clf.predict(X_test)\n",
        "nb_acc = accuracy_score(y_test, nb_preds)\n",
        "print(\"Naive Bayes accuracy:\", nb_acc)\n",
        "\n",
        "# Train a SVM classifier\n",
        "svm_clf = SVC(kernel='linear')\n",
        "svm_clf.fit(X_train, y_train)\n",
        "svm_preds = svm_clf.predict(X_test)\n",
        "svm_acc = accuracy_score(y_test, svm_preds)\n",
        "print(\"SVM accuracy:\", svm_acc)\n",
        "\n",
        "# Train a logistic regression classifier\n",
        "lr_clf = LogisticRegression()\n",
        "lr_clf.fit(X_train, y_train)\n",
        "lr_preds = lr_clf.predict(X_test)\n",
        "lr_acc = accuracy_score(y_test, lr_preds)\n",
        "print(\"Logistic Regression accuracy:\", lr_acc)\n",
        "\n",
        "# Train a kNN classifier\n",
        "knn_clf = KNeighborsClassifier()\n",
        "knn_clf.fit(X_train, y_train)\n",
        "knn_preds = knn_clf.predict(X_test)\n",
        "knn_acc = accuracy_score(y_test, knn_preds)\n",
        "print(\"kNN accuracy:\", knn_acc)\n",
        "\n",
        "# Select the best performing classifier based on accuracy\n",
        "best_acc = max(nb_acc, svm_acc, lr_acc, knn_acc)\n",
        "if best_acc == nb_acc:\n",
        "    best_clf = nb_clf\n",
        "    print(\"Selected Naive Bayes\")\n",
        "elif best_acc == svm_acc:\n",
        "    best_clf = svm_clf\n",
        "    print(\"Selected SVM\")\n",
        "elif best_acc == lr_acc:\n",
        "    best_clf = lr_clf\n",
        "    print(\"Selected Logistic Regression\")\n",
        "else:\n",
        "    best_clf = knn_clf\n",
        "    print(\"Selected kNN\")\n",
        "\n",
        "# Deploy the best performing classifier\n",
        "best_clf.fit(tfidf_matrix, labels)"
      ],
      "metadata": {
        "id": "lFdRpfsvSatk"
      },
      "execution_count": null,
      "outputs": []
    }
  ]
}